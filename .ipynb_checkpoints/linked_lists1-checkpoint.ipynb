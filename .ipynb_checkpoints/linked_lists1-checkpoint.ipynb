{
 "cells": [
  {
   "cell_type": "code",
   "execution_count": null,
   "metadata": {},
   "outputs": [],
   "source": [
    "class Node(object):\n",
    "    def __init__(self,value):\n",
    "        self.value = value\n",
    "        self.next = None\n",
    "class LinkedList(object):\n",
    "    def __init__(self,head):\n",
    "        head = Node(head)"
   ]
  },
  {
   "cell_type": "code",
   "execution_count": null,
   "metadata": {},
   "outputs": [],
   "source": []
  },
  {
   "cell_type": "code",
   "execution_count": null,
   "metadata": {},
   "outputs": [],
   "source": []
  },
  {
   "cell_type": "code",
   "execution_count": null,
   "metadata": {},
   "outputs": [],
   "source": []
  },
  {
   "cell_type": "code",
   "execution_count": null,
   "metadata": {},
   "outputs": [],
   "source": []
  },
  {
   "cell_type": "code",
   "execution_count": null,
   "metadata": {},
   "outputs": [],
   "source": []
  },
  {
   "cell_type": "code",
   "execution_count": 108,
   "metadata": {},
   "outputs": [],
   "source": [
    "class Node():\n",
    "    def __init__(self,data=None):\n",
    "        self.data = data\n",
    "        self.next = None\n",
    "    \n",
    "class List():\n",
    "    def __init__(self):\n",
    "        self.head = None\n",
    "        self.ln = 0\n",
    "    def elements(self):\n",
    "        current = self.head\n",
    "        while current != None:\n",
    "            print(current.data)\n",
    "            current = current.next\n",
    "    def add(self,Data):\n",
    "        data = Node(Data)\n",
    "        current = self.head\n",
    "        #if current.data == None:\n",
    "         #   current.data = data\n",
    "        print(current.data)\n",
    "        while current.next != None:\n",
    "            current = current.next\n",
    "        current.next = data\n",
    "        self.ln+=1\n",
    "    def lenght(self):\n",
    "        return self.ln\n",
    "    def index_el(self,indx):\n",
    "        pass"
   ]
  },
  {
   "cell_type": "code",
   "execution_count": 109,
   "metadata": {},
   "outputs": [
    {
     "data": {
      "text/plain": [
       "0"
      ]
     },
     "execution_count": 109,
     "metadata": {},
     "output_type": "execute_result"
    }
   ],
   "source": [
    "l = List()\n",
    "l.head = Node()\n",
    "l.lenght()"
   ]
  },
  {
   "cell_type": "code",
   "execution_count": 110,
   "metadata": {},
   "outputs": [
    {
     "name": "stdout",
     "output_type": "stream",
     "text": [
      "None\n"
     ]
    }
   ],
   "source": [
    "#l.add(12)\n",
    "l.elements()\n",
    "#l.lenght()"
   ]
  },
  {
   "cell_type": "code",
   "execution_count": 111,
   "metadata": {},
   "outputs": [
    {
     "name": "stdout",
     "output_type": "stream",
     "text": [
      "None\n",
      "None\n",
      "12\n"
     ]
    }
   ],
   "source": [
    "l.add(12)\n",
    "l.elements()"
   ]
  },
  {
   "cell_type": "code",
   "execution_count": 117,
   "metadata": {},
   "outputs": [],
   "source": [
    "#3.4*25"
   ]
  },
  {
   "cell_type": "code",
   "execution_count": null,
   "metadata": {},
   "outputs": [],
   "source": [
    "# Definition for a binary tree node.\n",
    "# class TreeNode(object):\n",
    "#     def __init__(self, x):\n",
    "#         self.val = x\n",
    "#         self.left = None\n",
    "#         self.right = None\n",
    "\n",
    "class Solution(object):\n",
    "    def deepestLeavesSum(self, root):\n",
    "        if root is None:\n",
    "            return 0\n",
    "        l=[root.val]\n",
    "        child = [k for k in (root.left, root.right) if k is not None]\n",
    "        while len(child)>0:\n",
    "            nex_chil = []\n",
    "            k=0\n",
    "            for c in child:\n",
    "                if c.left !=None:\n",
    "                    nex_chil.append(c.left)\n",
    "                if c.right !=None:\n",
    "                    nex_chil.append(c.right)\n",
    "                k+=c.val\n",
    "            l.append(k)\n",
    "            child = nex_chil\n",
    "        return l[len(l)-1]\n",
    "   \n",
    "    "
   ]
  }
 ],
 "metadata": {
  "kernelspec": {
   "display_name": "Python 3",
   "language": "python",
   "name": "python3"
  },
  "language_info": {
   "codemirror_mode": {
    "name": "ipython",
    "version": 3
   },
   "file_extension": ".py",
   "mimetype": "text/x-python",
   "name": "python",
   "nbconvert_exporter": "python",
   "pygments_lexer": "ipython3",
   "version": "3.7.3"
  }
 },
 "nbformat": 4,
 "nbformat_minor": 2
}
