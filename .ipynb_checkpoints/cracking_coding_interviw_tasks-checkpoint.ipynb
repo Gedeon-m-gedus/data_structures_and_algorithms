{
 "cells": [
  {
   "cell_type": "code",
   "execution_count": null,
   "metadata": {},
   "outputs": [],
   "source": []
  },
  {
   "cell_type": "markdown",
   "metadata": {},
   "source": [
    "1. **Is Unique:** Implement an algorithm to determine if a string has all unique characters. What if you cannot use additional data structures?"
   ]
  },
  {
   "cell_type": "code",
   "execution_count": 22,
   "metadata": {},
   "outputs": [],
   "source": [
    "##polynomial complexity\n",
    "def isUnique(txt):\n",
    "    for i in txt:\n",
    "        if txt.count(i)>1:return False\n",
    "    return True\n",
    "\n",
    "## Linear complexity\n",
    "##check if string has all unique characters\n",
    "def isUnique2(txt):\n",
    "    adj = [False for i in range(128)]\n",
    "    for j in txt:\n",
    "        if adj[ord(j)]==False:\n",
    "            adj[ord(j)] = True\n",
    "        else:return False\n",
    "    return True"
   ]
  },
  {
   "cell_type": "code",
   "execution_count": 24,
   "metadata": {},
   "outputs": [
    {
     "data": {
      "text/plain": [
       "True"
      ]
     },
     "execution_count": 24,
     "metadata": {},
     "output_type": "execute_result"
    }
   ],
   "source": [
    "isUnique2('gdeon')"
   ]
  },
  {
   "cell_type": "code",
   "execution_count": 41,
   "metadata": {},
   "outputs": [
    {
     "data": {
      "text/plain": [
       "False"
      ]
     },
     "execution_count": 41,
     "metadata": {},
     "output_type": "execute_result"
    }
   ],
   "source": [
    "isUnique2('gedeon')"
   ]
  },
  {
   "cell_type": "markdown",
   "metadata": {},
   "source": [
    "2. **Check Permutation:** Given two strings,write a method to decide if one is a permutation of the other."
   ]
  },
  {
   "cell_type": "code",
   "execution_count": 42,
   "metadata": {},
   "outputs": [],
   "source": [
    "def permitation(txt1,txt2):\n",
    "    if len(txt1)!=len(txt2):return False\n",
    "    txt1_ = str2dic(txt1)\n",
    "    txt2_ = str2dic(txt2)\n",
    "    for i in txt1:\n",
    "        if txt1_.get(i)!=txt2_.get(i):return False\n",
    "    return True\n",
    "def str2dic(txt):# a helper function for converting string to dictionary\n",
    "    dic = {}\n",
    "    for i in txt:\n",
    "        if dic.get(i)==None:\n",
    "            dic[i]=1\n",
    "        else:dic[i]+=1\n",
    "    return dic"
   ]
  },
  {
   "cell_type": "code",
   "execution_count": 43,
   "metadata": {},
   "outputs": [
    {
     "data": {
      "text/plain": [
       "False"
      ]
     },
     "execution_count": 43,
     "metadata": {},
     "output_type": "execute_result"
    }
   ],
   "source": [
    "permitation('txxt','txt')"
   ]
  },
  {
   "cell_type": "code",
   "execution_count": 44,
   "metadata": {},
   "outputs": [
    {
     "data": {
      "text/plain": [
       "True"
      ]
     },
     "execution_count": 44,
     "metadata": {},
     "output_type": "execute_result"
    }
   ],
   "source": [
    "permitation('abdc','dcab')"
   ]
  },
  {
   "cell_type": "markdown",
   "metadata": {},
   "source": [
    "3. A method to replace spaces in a string by %20"
   ]
  },
  {
   "cell_type": "code",
   "execution_count": 24,
   "metadata": {},
   "outputs": [],
   "source": [
    "#complexity is O(n)\n",
    "def fillSpaceInString(txt):\n",
    "    ans = ''\n",
    "    for i in range (len(txt)):     \n",
    "        if txt[i] == ' ':\n",
    "            ans = ans+'%20'\n",
    "        else:ans = ans+txt[i]\n",
    "    return ans"
   ]
  },
  {
   "cell_type": "code",
   "execution_count": 23,
   "metadata": {},
   "outputs": [
    {
     "data": {
      "text/plain": [
       "'gedeon%20muhawenayo%20kigali%20Rwanda'"
      ]
     },
     "execution_count": 23,
     "metadata": {},
     "output_type": "execute_result"
    }
   ],
   "source": [
    "fillSpaceInString('gedeon muhawenayo kigali Rwanda')"
   ]
  },
  {
   "cell_type": "markdown",
   "metadata": {},
   "source": [
    "4. Palindrome Permutation: Given a string, write a function to check if it is a permutation of a palindrome. A palindrome is a word or phrase that is the same forwards and backwards. A permutation is a rearrangement of letters. The palindrome does not need to be limited tojust dictionary words"
   ]
  },
  {
   "cell_type": "code",
   "execution_count": 44,
   "metadata": {},
   "outputs": [],
   "source": [
    "def palindromePermitation(txt):\n",
    "    pal = ''\n",
    "    if txt[::-1] == txt:\n",
    "        pal = txt[::-1]\n",
    "        return True\n",
    "    #print(pal)\n",
    "    return False"
   ]
  },
  {
   "cell_type": "code",
   "execution_count": 45,
   "metadata": {},
   "outputs": [
    {
     "data": {
      "text/plain": [
       "False"
      ]
     },
     "execution_count": 45,
     "metadata": {},
     "output_type": "execute_result"
    }
   ],
   "source": [
    "palindromePermitation('txtt')"
   ]
  },
  {
   "cell_type": "markdown",
   "metadata": {},
   "source": [
    "5. One Away: There are three types of edits that can be performed on strings: insert a character, remove a character, or replace a character. Given two strings, write a function to check if they are one edit (or zero edits) away.\n",
    "\n",
    "EXAMPLE\n",
    "\n",
    "pale, ple -> true\n",
    "\n",
    "pales, pale -> true\n",
    "\n",
    "pale, bale -> true\n",
    "\n",
    "pale, bake -> false"
   ]
  },
  {
   "cell_type": "code",
   "execution_count": 15,
   "metadata": {},
   "outputs": [],
   "source": [
    "def comp_str(txt1,txt2):\n",
    "    t = ''\n",
    "    k = 0\n",
    "    if len(txt2)<len(txt1):txt1,txt2=txt2,txt1\n",
    "    if len(txt1)<len(txt2):\n",
    "        i = 0\n",
    "        while i < (len(txt1)):\n",
    "            if txt1[i] != txt2[i]:\n",
    "                if txt1[i] == txt2[i+1]: \n",
    "                    t=t+txt1[i]\n",
    "            else: t=t+txt1[i]\n",
    "            i+=1\n",
    "        return t == txt1\n",
    "    else:\n",
    "        i = 0\n",
    "        while i < (len(txt1)):\n",
    "            if txt1[i] != txt2[i]:\n",
    "                k+=1\n",
    "            i+=1\n",
    "        if k>1:return False\n",
    "        else: return True \n",
    "            "
   ]
  },
  {
   "cell_type": "code",
   "execution_count": 16,
   "metadata": {},
   "outputs": [
    {
     "data": {
      "text/plain": [
       "True"
      ]
     },
     "execution_count": 16,
     "metadata": {},
     "output_type": "execute_result"
    }
   ],
   "source": [
    "comp_str('pole','pale')"
   ]
  },
  {
   "cell_type": "code",
   "execution_count": 17,
   "metadata": {},
   "outputs": [
    {
     "data": {
      "text/plain": [
       "False"
      ]
     },
     "execution_count": 17,
     "metadata": {},
     "output_type": "execute_result"
    }
   ],
   "source": [
    "comp_str('pale','bake')"
   ]
  },
  {
   "cell_type": "code",
   "execution_count": 18,
   "metadata": {},
   "outputs": [
    {
     "data": {
      "text/plain": [
       "True"
      ]
     },
     "execution_count": 18,
     "metadata": {},
     "output_type": "execute_result"
    }
   ],
   "source": [
    "comp_str('pole','ple')"
   ]
  },
  {
   "cell_type": "code",
   "execution_count": null,
   "metadata": {},
   "outputs": [],
   "source": []
  }
 ],
 "metadata": {
  "kernelspec": {
   "display_name": "Python 3",
   "language": "python",
   "name": "python3"
  },
  "language_info": {
   "codemirror_mode": {
    "name": "ipython",
    "version": 3
   },
   "file_extension": ".py",
   "mimetype": "text/x-python",
   "name": "python",
   "nbconvert_exporter": "python",
   "pygments_lexer": "ipython3",
   "version": "3.7.3"
  }
 },
 "nbformat": 4,
 "nbformat_minor": 2
}
