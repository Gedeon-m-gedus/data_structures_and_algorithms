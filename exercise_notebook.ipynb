{
 "cells": [
  {
   "cell_type": "markdown",
   "metadata": {},
   "source": [
    "## Binary Tree"
   ]
  },
  {
   "cell_type": "code",
   "execution_count": 65,
   "metadata": {},
   "outputs": [],
   "source": [
    "class node:\n",
    "    def __init__(self, val):\n",
    "        self.left = None\n",
    "        self.right = None\n",
    "        self.value = val\n",
    "\n",
    "# root = node(8)\n",
    "# root.left = node(5)\n",
    "# root.right = node(9)\n",
    "\n",
    "def insert_element(root, node_value):\n",
    "\n",
    "    if root is None:\n",
    "        return node(node_value)\n",
    "    else:\n",
    "        if node_value < root.value:\n",
    "            root.left = insert_element(root.left, node_value)\n",
    "        else:\n",
    "            root.right = insert_element(root.right, node_value)\n",
    "\n",
    "    return root\n",
    "\n",
    "visited = []\n",
    "def traverse_tree(root):\n",
    "    if root is not None:\n",
    "        traverse_tree(root.left)\n",
    "        traverse_tree(root.right)\n",
    "        print(root.value, end=' ')\n",
    "        visited.append(root.value)"
   ]
  },
  {
   "cell_type": "code",
   "execution_count": 66,
   "metadata": {},
   "outputs": [],
   "source": [
    "tree_root = None\n",
    "elements = [10, 7,8,5,6,3,4] #[7,2,7,80,4,8,8,3,4,5,9,7,1,3,5]\n",
    "for e in elements:\n",
    "    tree_root = insert_element(tree_root, e)"
   ]
  },
  {
   "cell_type": "code",
   "execution_count": 68,
   "metadata": {},
   "outputs": [
    {
     "name": "stdout",
     "output_type": "stream",
     "text": [
      "4 3 6 5 8 7 10 [4, 3, 6, 5, 8, 7, 10]\n"
     ]
    }
   ],
   "source": [
    "traverse_tree(tree_root)\n",
    "print(visited)"
   ]
  },
  {
   "cell_type": "markdown",
   "metadata": {},
   "source": [
    "## Stack"
   ]
  },
  {
   "cell_type": "code",
   "execution_count": 44,
   "metadata": {},
   "outputs": [],
   "source": [
    "class stack:\n",
    "    def __init__(self):\n",
    "        self.stack_elements = []\n",
    "    def push(self, element):\n",
    "        self.stack_elements.append(element)\n",
    "    def pop(self):\n",
    "        self.stack_elements.pop()\n",
    "    def peek(self):\n",
    "        if len(self.stack_elements)<1:\n",
    "            return None\n",
    "        return self.stack_elements[-1]\n",
    "    def size(self):\n",
    "        return len(self.stack_elements)"
   ]
  },
  {
   "cell_type": "markdown",
   "metadata": {},
   "source": [
    "#### Using stack to implement balanced paranthesis checker"
   ]
  },
  {
   "cell_type": "code",
   "execution_count": 47,
   "metadata": {},
   "outputs": [],
   "source": [
    "def parenthesisChecker(input_string):\n",
    "    if len(input_string)==0:return False\n",
    "    par_types = {\n",
    "        \"(\":{\n",
    "            \"type\":\"paranthesis\",\n",
    "            \"mode\":\"opening\"\n",
    "        },\n",
    "        \")\":{\n",
    "            \"type\":\"paranthesis\",\n",
    "            \"mode\":\"closing\"\n",
    "        },\n",
    "        \"[\":{\n",
    "            \"type\":\"square\",\n",
    "            \"mode\":\"opening\"\n",
    "        },\n",
    "        \"]\":{\n",
    "            \"type\":\"square\",\n",
    "            \"mode\":\"closing\"\n",
    "        },\n",
    "        \"{\":{\n",
    "            \"type\":\"brace\",\n",
    "            \"mode\":\"opening\"\n",
    "        },\n",
    "        \"}\":{\n",
    "            \"type\":\"brace\",\n",
    "            \"mode\":\"closing\"\n",
    "        },\n",
    "    }\n",
    "    visited_paranthesis = stack()\n",
    "    for p in input_string:\n",
    "        if par_types[p][\"mode\"] == \"opening\":\n",
    "            visited_paranthesis.push(p)\n",
    "        if par_types[p][\"mode\"] == \"closing\":\n",
    "            last_item = visited_paranthesis.peek()\n",
    "            if last_item==None:\n",
    "                return False\n",
    "            if par_types[p][\"type\"] == par_types[last_item][\"type\"]:\n",
    "                visited_paranthesis.pop()\n",
    "            else:\n",
    "                return False\n",
    "    if visited_paranthesis.size()==0:\n",
    "        return True\n",
    "    return False\n"
   ]
  },
  {
   "cell_type": "code",
   "execution_count": 56,
   "metadata": {},
   "outputs": [
    {
     "data": {
      "text/plain": [
       "True"
      ]
     },
     "execution_count": 56,
     "metadata": {},
     "output_type": "execute_result"
    }
   ],
   "source": [
    "parenthesisChecker(\"([])\")"
   ]
  },
  {
   "cell_type": "markdown",
   "metadata": {},
   "source": [
    "## Directed Graph"
   ]
  },
  {
   "cell_type": "code",
   "execution_count": 69,
   "metadata": {},
   "outputs": [
    {
     "name": "stdout",
     "output_type": "stream",
     "text": [
      "Node 1: 2\n",
      "Node 2: 3\n",
      "Node 3: 1, 4\n",
      "Node 4: \n"
     ]
    }
   ],
   "source": [
    "class Node:\n",
    "    def __init__(self, value):\n",
    "        self.value = value\n",
    "        self.neighbors = []\n",
    "\n",
    "class DirectedGraph:\n",
    "    def __init__(self):\n",
    "        self.nodes = {}\n",
    "\n",
    "    def add_node(self, value):\n",
    "        if value not in self.nodes:\n",
    "            self.nodes[value] = Node(value)\n",
    "\n",
    "    def add_edge(self, source, destination):\n",
    "        if source in self.nodes and destination in self.nodes:\n",
    "            self.nodes[source].neighbors.append(destination)\n",
    "\n",
    "    def display(self):\n",
    "        for node_value, node in self.nodes.items():\n",
    "            neighbors = ', '.join(str(neighbor) for neighbor in node.neighbors)\n",
    "            print(f\"Node {node_value}: {neighbors}\")\n",
    "\n",
    "# Create a directed graph\n",
    "directed_graph = DirectedGraph()\n",
    "\n",
    "# Add nodes\n",
    "for node_value in [1, 2, 3, 4]:\n",
    "    directed_graph.add_node(node_value)\n",
    "\n",
    "# Add directed edges\n",
    "directed_graph.add_edge(1, 2)\n",
    "directed_graph.add_edge(2, 3)\n",
    "directed_graph.add_edge(3, 1)\n",
    "directed_graph.add_edge(3, 4)\n",
    "\n",
    "# Display the directed graph\n",
    "directed_graph.display()\n"
   ]
  },
  {
   "cell_type": "code",
   "execution_count": null,
   "metadata": {},
   "outputs": [],
   "source": [
    "# Using networkx library for visualization\n",
    "import networkx as nx\n",
    "import matplotlib.pyplot as plt\n",
    "\n",
    "# Create a directed graph\n",
    "G_directed = nx.DiGraph()\n",
    "\n",
    "# Add nodes\n",
    "G_directed.add_nodes_from([1, 2, 3, 4])\n",
    "\n",
    "# Add directed edges\n",
    "G_directed.add_edges_from([(1, 2), (2, 3), (3, 1), (3, 4)])\n",
    "\n",
    "# Plot the directed graph\n",
    "plt.figure(figsize=(8, 6))\n",
    "nx.draw(G_directed, with_labels=True, font_weight='bold', arrowsize=20)\n",
    "plt.title(\"Directed Graph\")\n",
    "plt.show()\n"
   ]
  },
  {
   "cell_type": "markdown",
   "metadata": {},
   "source": [
    "## Undirected graph"
   ]
  },
  {
   "cell_type": "code",
   "execution_count": null,
   "metadata": {},
   "outputs": [],
   "source": [
    "# Create an undirected graph\n",
    "G_undirected = nx.Graph()\n",
    "\n",
    "# Add nodes\n",
    "G_undirected.add_nodes_from([1, 2, 3, 4])\n",
    "\n",
    "# Add undirected edges\n",
    "G_undirected.add_edges_from([(1, 2), (2, 3), (3, 1), (3, 4)])\n",
    "\n",
    "# Plot the undirected graph\n",
    "plt.figure(figsize=(8, 6))\n",
    "nx.draw(G_undirected, with_labels=True, font_weight='bold', edge_color='gray')\n",
    "plt.title(\"Undirected Graph\")\n",
    "plt.show()\n"
   ]
  },
  {
   "cell_type": "markdown",
   "metadata": {},
   "source": [
    "## Weighted Graph"
   ]
  },
  {
   "cell_type": "code",
   "execution_count": null,
   "metadata": {},
   "outputs": [],
   "source": [
    "# Create a weighted graph\n",
    "G_weighted = nx.Graph()\n",
    "\n",
    "# Add nodes\n",
    "G_weighted.add_nodes_from([\"A\", \"B\", \"C\", \"D\"])\n",
    "\n",
    "# Add weighted edges\n",
    "G_weighted.add_edge(\"A\", \"B\", weight=3)\n",
    "G_weighted.add_edge(\"B\", \"C\", weight=2)\n",
    "G_weighted.add_edge(\"C\", \"A\", weight=1)\n",
    "G_weighted.add_edge(\"C\", \"D\", weight=4)\n",
    "\n",
    "# Plot the weighted graph\n",
    "plt.figure(figsize=(8, 6))\n",
    "pos = nx.spring_layout(G_weighted)\n",
    "nx.draw(G_weighted, pos, with_labels=True, font_weight='bold', edge_color='gray')\n",
    "labels = nx.get_edge_attributes(G_weighted, 'weight')\n",
    "nx.draw_networkx_edge_labels(G_weighted, pos, edge_labels=labels)\n",
    "plt.title(\"Weighted Graph\")\n",
    "plt.show()\n"
   ]
  },
  {
   "cell_type": "markdown",
   "metadata": {},
   "source": [
    "## Unweighted Graph"
   ]
  },
  {
   "cell_type": "code",
   "execution_count": null,
   "metadata": {},
   "outputs": [],
   "source": [
    "# Create an unweighted graph\n",
    "G_unweighted = nx.Graph()\n",
    "\n",
    "# Add nodes\n",
    "G_unweighted.add_nodes_from([\"A\", \"B\", \"C\", \"D\"])\n",
    "\n",
    "# Add unweighted edges\n",
    "G_unweighted.add_edges_from([(\"A\", \"B\"), (\"B\", \"C\"), (\"C\", \"A\"), (\"C\", \"D\")])\n",
    "\n",
    "# Plot the unweighted graph\n",
    "plt.figure(figsize=(8, 6))\n",
    "nx.draw(G_unweighted, with_labels=True, font_weight='bold', edge_color='gray')\n",
    "plt.title(\"Unweighted Graph\")\n",
    "plt.show()\n"
   ]
  }
 ],
 "metadata": {
  "kernelspec": {
   "display_name": "Python 3",
   "language": "python",
   "name": "python3"
  },
  "language_info": {
   "codemirror_mode": {
    "name": "ipython",
    "version": 3
   },
   "file_extension": ".py",
   "mimetype": "text/x-python",
   "name": "python",
   "nbconvert_exporter": "python",
   "pygments_lexer": "ipython3",
   "version": "3.7.3"
  },
  "orig_nbformat": 4
 },
 "nbformat": 4,
 "nbformat_minor": 2
}
