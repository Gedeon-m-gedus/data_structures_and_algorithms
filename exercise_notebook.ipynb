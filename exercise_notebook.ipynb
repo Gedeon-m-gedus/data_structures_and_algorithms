{
 "cells": [
  {
   "cell_type": "markdown",
   "metadata": {},
   "source": [
    "## Binary Tree"
   ]
  },
  {
   "cell_type": "code",
   "execution_count": 65,
   "metadata": {},
   "outputs": [],
   "source": [
    "class node:\n",
    "    def __init__(self, val):\n",
    "        self.left = None\n",
    "        self.right = None\n",
    "        self.value = val\n",
    "\n",
    "# root = node(8)\n",
    "# root.left = node(5)\n",
    "# root.right = node(9)\n",
    "\n",
    "def insert_element(root, node_value):\n",
    "\n",
    "    if root is None:\n",
    "        return node(node_value)\n",
    "    else:\n",
    "        if node_value < root.value:\n",
    "            root.left = insert_element(root.left, node_value)\n",
    "        else:\n",
    "            root.right = insert_element(root.right, node_value)\n",
    "\n",
    "    return root\n",
    "\n",
    "visited = []\n",
    "def traverse_tree(root):\n",
    "    if root is not None:\n",
    "        traverse_tree(root.left)\n",
    "        traverse_tree(root.right)\n",
    "        print(root.value, end=' ')\n",
    "        visited.append(root.value)"
   ]
  },
  {
   "cell_type": "code",
   "execution_count": 66,
   "metadata": {},
   "outputs": [],
   "source": [
    "tree_root = None\n",
    "elements = [10, 7,8,5,6,3,4] #[7,2,7,80,4,8,8,3,4,5,9,7,1,3,5]\n",
    "for e in elements:\n",
    "    tree_root = insert_element(tree_root, e)"
   ]
  },
  {
   "cell_type": "code",
   "execution_count": 68,
   "metadata": {},
   "outputs": [
    {
     "name": "stdout",
     "output_type": "stream",
     "text": [
      "4 3 6 5 8 7 10 [4, 3, 6, 5, 8, 7, 10]\n"
     ]
    }
   ],
   "source": [
    "traverse_tree(tree_root)\n",
    "print(visited)"
   ]
  },
  {
   "cell_type": "markdown",
   "metadata": {},
   "source": [
    "## Directed Graph"
   ]
  },
  {
   "cell_type": "code",
   "execution_count": null,
   "metadata": {},
   "outputs": [],
   "source": []
  },
  {
   "cell_type": "code",
   "execution_count": null,
   "metadata": {},
   "outputs": [],
   "source": []
  },
  {
   "cell_type": "code",
   "execution_count": null,
   "metadata": {},
   "outputs": [],
   "source": []
  }
 ],
 "metadata": {
  "kernelspec": {
   "display_name": "Python 3",
   "language": "python",
   "name": "python3"
  },
  "language_info": {
   "codemirror_mode": {
    "name": "ipython",
    "version": 3
   },
   "file_extension": ".py",
   "mimetype": "text/x-python",
   "name": "python",
   "nbconvert_exporter": "python",
   "pygments_lexer": "ipython3",
   "version": "3.7.3"
  },
  "orig_nbformat": 4
 },
 "nbformat": 4,
 "nbformat_minor": 2
}
