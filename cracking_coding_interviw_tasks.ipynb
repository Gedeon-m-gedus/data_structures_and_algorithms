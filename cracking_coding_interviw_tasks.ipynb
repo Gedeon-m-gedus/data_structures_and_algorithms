{
 "cells": [
  {
   "cell_type": "code",
   "execution_count": null,
   "metadata": {},
   "outputs": [],
   "source": []
  },
  {
   "cell_type": "markdown",
   "metadata": {},
   "source": [
    "1. **Is Unique:** Implement an algorithm to determine if a string has all unique characters. What if you cannot use additional data structures?"
   ]
  },
  {
   "cell_type": "code",
   "execution_count": 22,
   "metadata": {},
   "outputs": [],
   "source": [
    "##polynomial complexity\n",
    "def isUnique(txt):\n",
    "    for i in txt:\n",
    "        if txt.count(i)>1:return False\n",
    "    return True\n",
    "\n",
    "## Linear complexity\n",
    "##check if string has all unique characters\n",
    "def isUnique2(txt):\n",
    "    adj = [False for i in range(128)]\n",
    "    for j in txt:\n",
    "        if adj[ord(j)]==False:\n",
    "            adj[ord(j)] = True\n",
    "        else:return False\n",
    "    return True"
   ]
  },
  {
   "cell_type": "code",
   "execution_count": 24,
   "metadata": {},
   "outputs": [
    {
     "data": {
      "text/plain": [
       "True"
      ]
     },
     "execution_count": 24,
     "metadata": {},
     "output_type": "execute_result"
    }
   ],
   "source": [
    "isUnique2('gdeon')"
   ]
  },
  {
   "cell_type": "code",
   "execution_count": 41,
   "metadata": {},
   "outputs": [
    {
     "data": {
      "text/plain": [
       "False"
      ]
     },
     "execution_count": 41,
     "metadata": {},
     "output_type": "execute_result"
    }
   ],
   "source": [
    "isUnique2('gedeon')"
   ]
  },
  {
   "cell_type": "markdown",
   "metadata": {},
   "source": [
    "2. **Check Permutation:** Given two strings,write a method to decide if one is a permutation of the other."
   ]
  },
  {
   "cell_type": "code",
   "execution_count": 42,
   "metadata": {},
   "outputs": [],
   "source": [
    "def permitation(txt1,txt2):\n",
    "    if len(txt1)!=len(txt2):return False\n",
    "    txt1_ = str2dic(txt1)\n",
    "    txt2_ = str2dic(txt2)\n",
    "    for i in txt1:\n",
    "        if txt1_.get(i)!=txt2_.get(i):return False\n",
    "    return True\n",
    "def str2dic(txt):# a helper function for converting string to dictionary\n",
    "    dic = {}\n",
    "    for i in txt:\n",
    "        if dic.get(i)==None:\n",
    "            dic[i]=1\n",
    "        else:dic[i]+=1\n",
    "    return dic"
   ]
  },
  {
   "cell_type": "code",
   "execution_count": 43,
   "metadata": {},
   "outputs": [
    {
     "data": {
      "text/plain": [
       "False"
      ]
     },
     "execution_count": 43,
     "metadata": {},
     "output_type": "execute_result"
    }
   ],
   "source": [
    "permitation('txxt','txt')"
   ]
  },
  {
   "cell_type": "code",
   "execution_count": 44,
   "metadata": {},
   "outputs": [
    {
     "data": {
      "text/plain": [
       "True"
      ]
     },
     "execution_count": 44,
     "metadata": {},
     "output_type": "execute_result"
    }
   ],
   "source": [
    "permitation('abdc','dcab')"
   ]
  },
  {
   "cell_type": "code",
   "execution_count": null,
   "metadata": {},
   "outputs": [],
   "source": []
  }
 ],
 "metadata": {
  "kernelspec": {
   "display_name": "Python 3",
   "language": "python",
   "name": "python3"
  },
  "language_info": {
   "codemirror_mode": {
    "name": "ipython",
    "version": 3
   },
   "file_extension": ".py",
   "mimetype": "text/x-python",
   "name": "python",
   "nbconvert_exporter": "python",
   "pygments_lexer": "ipython3",
   "version": "3.7.3"
  }
 },
 "nbformat": 4,
 "nbformat_minor": 2
}
